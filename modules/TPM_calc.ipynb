{
 "cells": [
  {
   "cell_type": "code",
   "execution_count": null,
   "metadata": {},
   "outputs": [],
   "source": [
    "import pandas as pd\n",
    "\n",
    "# Load exon lengths (CSV file)\n",
    "# Assuming your CSV file has columns: 'gene_id' and 'exon_length'\n",
    "exon_lengths_df = pd.read_csv('path_to_exon_lengths.csv')\n",
    "\n",
    "# Load the gene count matrix (txt file)\n",
    "# First column is 'ENSEMBL_ID' and the remaining columns are sample counts\n",
    "gene_counts_df = pd.read_csv('path_to_count_matrix.txt', sep='\\t')\n",
    "\n",
    "# Merge exon lengths with the gene counts dataframe on 'ENSEMBL_ID'\n",
    "# Renaming 'ENSEMBL_ID' to 'gene_id' to match exon lengths dataframe\n",
    "gene_counts_df = gene_counts_df.rename(columns={'ENSEMBL_ID': 'gene_id'})\n",
    "merged_df = pd.merge(gene_counts_df, exon_lengths_df, on='gene_id')\n",
    "\n",
    "# Convert gene length to kilobases (kb)\n",
    "merged_df['length_kb'] = merged_df['exon_length'] / 1000\n",
    "\n",
    "# For each sample, calculate TPM\n",
    "sample_columns = merged_df.columns.difference(['gene_id', 'exon_length', 'length_kb'])\n",
    "\n",
    "# Create a dataframe to store TPM values\n",
    "tpm_df = pd.DataFrame({'gene_id': merged_df['gene_id']})\n",
    "\n",
    "for sample in sample_columns:\n",
    "    # Calculate RPK (Reads Per Kilobase) for this sample\n",
    "    merged_df['RPK'] = merged_df[sample] / merged_df['length_kb']\n",
    "    \n",
    "    # Sum all RPKs to get the total RPK for this sample\n",
    "    total_rpk = merged_df['RPK'].sum()\n",
    "    \n",
    "    # Calculate TPM (Transcripts Per Million) for this sample\n",
    "    merged_df['TPM'] = (merged_df['RPK'] / total_rpk) * 1e6\n",
    "    \n",
    "    # Store TPM values in tpm_df\n",
    "    tpm_df[sample] = merged_df['TPM']\n",
    "\n",
    "# Save the TPM results to a new CSV file\n",
    "tpm_df.to_csv('tpm_results.csv', index=False)\n",
    "\n",
    "# Check the first few rows of the TPM result\n",
    "print(tpm_df.head())\n"
   ]
  }
 ],
 "metadata": {
  "kernelspec": {
   "display_name": "Python 3",
   "language": "python",
   "name": "python3"
  },
  "language_info": {
   "name": "python",
   "version": "3.12.3"
  }
 },
 "nbformat": 4,
 "nbformat_minor": 2
}
